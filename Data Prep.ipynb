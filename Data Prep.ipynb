{
 "cells": [
  {
   "cell_type": "markdown",
   "metadata": {},
   "source": [
    "## Prepping data for testing\n"
   ]
  },
  {
   "cell_type": "code",
   "execution_count": 2,
   "metadata": {
    "collapsed": true
   },
   "outputs": [],
   "source": [
    "from __future__ import division\n",
    "import numpy as np\n",
    "from sklearn import datasets\n",
    "import random\n",
    "import pprint\n",
    "from scipy import stats as stat\n",
    "import nltk\n",
    "from operator import itemgetter\n",
    "from gensim.models import Word2Vec \n",
    "from nltk.tokenize import word_tokenize\n",
    "from sklearn.cluster import KMeans\n",
    "import FastGaussianLDA2"
   ]
  },
  {
   "cell_type": "code",
   "execution_count": 251,
   "metadata": {
    "collapsed": false
   },
   "outputs": [
    {
     "name": "stderr",
     "output_type": "stream",
     "text": [
      "WARNING:gensim.models.word2vec:consider setting layer size to a multiple of 4 for greater performance\n"
     ]
    }
   ],
   "source": [
    "wordvecs = Word2Vec.load_word2vec_format(\n",
    "    \"/Users/michael/Documents/Gaussian_LDA-master/data/glove.wiki/glove.6B.50d.txt\", binary=False)\n",
    "# data = datasets.fetch_20newsgroups(remove=('headers', 'footers', 'quotes'), subset=\"train\",\n",
    "#                                    categories=['comp.windows.x', 'sci.med',\n",
    "#                                                'talk.politics.mideast', 'soc.religion.christian',\n",
    "#                                                'sci.space'])"
   ]
  },
  {
   "cell_type": "code",
   "execution_count": 485,
   "metadata": {
    "collapsed": false
   },
   "outputs": [
    {
     "data": {
      "text/plain": [
       "['alt.atheism',\n",
       " 'comp.graphics',\n",
       " 'comp.os.ms-windows.misc',\n",
       " 'comp.sys.ibm.pc.hardware',\n",
       " 'comp.sys.mac.hardware',\n",
       " 'comp.windows.x',\n",
       " 'misc.forsale',\n",
       " 'rec.autos',\n",
       " 'rec.motorcycles',\n",
       " 'rec.sport.baseball',\n",
       " 'rec.sport.hockey',\n",
       " 'sci.crypt',\n",
       " 'sci.electronics',\n",
       " 'sci.med',\n",
       " 'sci.space',\n",
       " 'soc.religion.christian',\n",
       " 'talk.politics.guns',\n",
       " 'talk.politics.mideast',\n",
       " 'talk.politics.misc',\n",
       " 'talk.religion.misc']"
      ]
     },
     "execution_count": 485,
     "metadata": {},
     "output_type": "execute_result"
    }
   ],
   "source": [
    "# data[0]['target_names']"
   ]
  },
  {
   "cell_type": "code",
   "execution_count": 3,
   "metadata": {
    "collapsed": true
   },
   "outputs": [],
   "source": [
    "vocab = set(wordvecs.vocab.keys())\n",
    "stopwords = set(nltk.corpus.stopwords.words(fileids='english'))\n",
    "txt = data['data']\n",
    "print len(txt)"
   ]
  },
  {
   "cell_type": "code",
   "execution_count": 506,
   "metadata": {
    "collapsed": false
   },
   "outputs": [
    {
     "name": "stdout",
     "output_type": "stream",
     "text": [
      "1138\n"
     ]
    }
   ],
   "source": [
    "most = 0\n",
    "for doc in txt:\n",
    "    if len(doc) > 2000: most += 1\n",
    "print most"
   ]
  },
  {
   "cell_type": "code",
   "execution_count": 91,
   "metadata": {
    "collapsed": false
   },
   "outputs": [],
   "source": [
    "cleandocs = []\n",
    "for doc in txt:\n",
    "    doc = doc.split()\n",
    "    doc = filter(lambda x: x in vocab, doc)\n",
    "    doc = filter(lambda x: x not in stopwords, doc)\n",
    "    doc = filter(lambda x: x.isalpha(), doc)\n",
    "    doc = filter(lambda x: x != \"would\" and x != \"one\" and x !='like' and x !='even', doc)\n",
    "    doc = ' '.join(doc)\n",
    "    cleandocs.append(doc)"
   ]
  },
  {
   "cell_type": "code",
   "execution_count": 92,
   "metadata": {
    "collapsed": false
   },
   "outputs": [
    {
     "data": {
      "text/plain": [
       "2943"
      ]
     },
     "execution_count": 92,
     "metadata": {},
     "output_type": "execute_result"
    }
   ],
   "source": [
    "len(cleandocs)"
   ]
  },
  {
   "cell_type": "code",
   "execution_count": 93,
   "metadata": {
    "collapsed": true
   },
   "outputs": [],
   "source": [
    "cleandocs = [doc for doc in cleandocs if len(doc.split()) < 1500]"
   ]
  },
  {
   "cell_type": "code",
   "execution_count": 99,
   "metadata": {
    "collapsed": false
   },
   "outputs": [],
   "source": [
    "bb = itemgetter(*np.random.random_integers(0, 1650, 600).tolist())\n",
    "a  = bb(cleandocs)"
   ]
  },
  {
   "cell_type": "code",
   "execution_count": 100,
   "metadata": {
    "collapsed": true
   },
   "outputs": [],
   "source": [
    "a = list(a)"
   ]
  },
  {
   "cell_type": "code",
   "execution_count": 101,
   "metadata": {
    "collapsed": false
   },
   "outputs": [],
   "source": [
    "a.insert(0, test_doc)"
   ]
  },
  {
   "cell_type": "code",
   "execution_count": 102,
   "metadata": {
    "collapsed": true
   },
   "outputs": [],
   "source": [
    "test_doc = \"hockey basketball baseball football sports touchdown golf playoffs \" * 1000\n",
    "a.append(test_doc)"
   ]
  },
  {
   "cell_type": "code",
   "execution_count": 104,
   "metadata": {
    "collapsed": false
   },
   "outputs": [],
   "source": [
    "bb = itemgetter(*np.random.random_integers(0, 1650, 500).tolist())\n",
    "len(bb(cleandocs))\n",
    "\n",
    "f = '/Users/michael/Documents/GaussianLDA/clean20news.txt'\n",
    "# np.savetxt(f, docs)\n",
    "with open(f, 'w') as fi:\n",
    "    for doc in a:\n",
    "        try:\n",
    "            fi.write(\"%s\\n\" % doc)\n",
    "        except UnicodeEncodeError: continue"
   ]
  },
  {
   "cell_type": "markdown",
   "metadata": {},
   "source": [
    "#### Testing to make sure we can read it well"
   ]
  },
  {
   "cell_type": "code",
   "execution_count": 527,
   "metadata": {
    "collapsed": false
   },
   "outputs": [],
   "source": [
    "# f = '/Users/michael/Documents/GaussianLDA/clean20news.txt'\n",
    "# with open(f, 'r') as fi:\n",
    "#     text = fi.read().splitlines()\n",
    "#     fi.close()\n",
    "# print len(text)"
   ]
  },
  {
   "cell_type": "code",
   "execution_count": 106,
   "metadata": {
    "collapsed": false
   },
   "outputs": [],
   "source": [
    "a, b, c = [0,0], [0,0], [0,0]\n",
    "\n",
    "for x, y in zip(txt, data['target']): \n",
    "    if y == 0: a[0] += len(x); a[1] += 1\n",
    "    if y == 1: b[0] += len(x); b[1] += 1\n",
    "    if y == 2: c[0] += len(x); c[1] += 1\n",
    "        \n",
    "print a[0] / a[1], a[1]\n",
    "print b[0] / b[1], b[1]\n",
    "print c[0] / c[1], c[1]"
   ]
  },
  {
   "cell_type": "code",
   "execution_count": 404,
   "metadata": {
    "collapsed": true
   },
   "outputs": [],
   "source": [
    "# mansour_topic = np.loadtxt(\"/Users/michael/Documents/GaussianLDA/output/1iter4topic2Topic Mean.txt\")\n",
    "# das_topic = np.loadtxt(\"/Users/michael/Documents/Gaussian_LDA-master/output/Aliaswiki50D20T3.txt\")"
   ]
  },
  {
   "cell_type": "markdown",
   "metadata": {
    "collapsed": false
   },
   "source": [
    "## Making More Sythetic Data"
   ]
  },
  {
   "cell_type": "code",
   "execution_count": null,
   "metadata": {
    "collapsed": false
   },
   "outputs": [],
   "source": [
    "%pprint on\n",
    "topic1 = ' '.join([word for word, score in wordvecs.most_similar(positive=['car'], topn=10)])\n",
    "topic2 = ' '.join([word for word, score in wordvecs.most_similar(positive=['science'], topn=10)])\n",
    "topic3 = ' '.join([word for word, score in wordvecs.most_similar(positive=['construction'], topn=10)])\n",
    "print topic1, topic2, topic3"
   ]
  },
  {
   "cell_type": "code",
   "execution_count": 8,
   "metadata": {
    "collapsed": false
   },
   "outputs": [],
   "source": [
    "docs = [topic1, topic2, topic3]\n",
    "\n",
    "f = '/Users/michael/Documents/GaussianLDA/clean20news.txt'\n",
    "# np.savetxt(f, docs)\n",
    "with open(f, 'w') as fi:\n",
    "    for doc in docs:\n",
    "        try:\n",
    "            fi.write(\"%s\\n\" % doc)\n",
    "        except UnicodeEncodeError: continue"
   ]
  },
  {
   "cell_type": "markdown",
   "metadata": {},
   "source": [
    "Current project:\n",
    "\n",
    "you have unlabeled cans of paint.  You want to be able to assign color names to them.\n",
    "\n",
    "My model currently just dumps all the cans of paint into a bucket, mixes it up, and labels each paint can that gross dark brown purlply color that comes out when a child mixes all the paints together. "
   ]
  },
  {
   "cell_type": "code",
   "execution_count": 252,
   "metadata": {
    "collapsed": true
   },
   "outputs": [],
   "source": [
    "#Testing kmeans cluster centroids\n",
    "\n",
    "topic1 = [word for word, score in wordvecs.most_similar(positive=['engine'], topn=10)]\n",
    "topic2 = [word for word, score in wordvecs.most_similar(positive=['chair'], topn=10)]\n",
    "topic3 = [word for word, score in wordvecs.most_similar(positive=['succulent'], topn=10)]\n",
    "topic4 = [word for word, score in wordvecs.most_similar(positive=['panda'], topn=10)]\n",
    "topic5 = [word for word, score in wordvecs.most_similar(positive=['cancer'], topn=10)]"
   ]
  },
  {
   "cell_type": "code",
   "execution_count": 230,
   "metadata": {
    "collapsed": false
   },
   "outputs": [
    {
     "data": {
      "text/plain": [
       "[u'engines',\n",
       " u'cylinder',\n",
       " u'powered',\n",
       " u'turbine',\n",
       " u'wheel',\n",
       " u'chassis',\n",
       " u'diesel',\n",
       " u'v-8',\n",
       " u'v8',\n",
       " u'prototype']"
      ]
     },
     "execution_count": 230,
     "metadata": {},
     "output_type": "execute_result"
    }
   ],
   "source": [
    "topic1"
   ]
  },
  {
   "cell_type": "code",
   "execution_count": 207,
   "metadata": {
    "collapsed": false
   },
   "outputs": [],
   "source": [
    "arrs = []\n",
    "for doc in [topic1, topic2, topic3, topic4, topic5]:\n",
    "    for word in doc:\n",
    "        arrs.append(wordvecs[word])\n",
    "arrs = np.array(arrs)"
   ]
  },
  {
   "cell_type": "code",
   "execution_count": 240,
   "metadata": {
    "collapsed": true
   },
   "outputs": [],
   "source": [
    "def is_pos_def(x):\n",
    "    return np.all(np.linalg.eigvals(x) > 0)\n"
   ]
  },
  {
   "cell_type": "code",
   "execution_count": 234,
   "metadata": {
    "collapsed": false
   },
   "outputs": [],
   "source": [
    "mean = np.mean(arrs, axis=0)"
   ]
  },
  {
   "cell_type": "code",
   "execution_count": 243,
   "metadata": {
    "collapsed": false
   },
   "outputs": [
    {
     "data": {
      "text/plain": [
       "True"
      ]
     },
     "execution_count": 243,
     "metadata": {},
     "output_type": "execute_result"
    }
   ],
   "source": [
    "is_pos_def(np.shape(arrs)[0] * (arrs-mean).dot((arrs-mean).T) + 0.001)"
   ]
  },
  {
   "cell_type": "code",
   "execution_count": 208,
   "metadata": {
    "collapsed": false
   },
   "outputs": [
    {
     "data": {
      "text/plain": [
       "KMeans(copy_x=True, init='k-means++', max_iter=300, n_clusters=5, n_init=10,\n",
       "    n_jobs=1, precompute_distances='auto', random_state=None, tol=0.0001,\n",
       "    verbose=0)"
      ]
     },
     "execution_count": 208,
     "metadata": {},
     "output_type": "execute_result"
    }
   ],
   "source": [
    "k = 5\n",
    "km = KMeans(n_clusters=k)\n",
    "km.fit(arrs)"
   ]
  },
  {
   "cell_type": "code",
   "execution_count": 209,
   "metadata": {
    "collapsed": false
   },
   "outputs": [
    {
     "name": "stdout",
     "output_type": "stream",
     "text": [
      "[(u'panda', 0.8401603102684021), (u'elephant', 0.8059775233268738), (u'dolphin', 0.7743972539901733), (u'cat', 0.7598140835762024), (u'monkey', 0.7537307143211365), (u'gorilla', 0.7338233590126038), (u'pandas', 0.7320524454116821), (u'zoo', 0.7295270562171936), (u'bird', 0.7275235056877136), (u'shark', 0.7063887715339661)] \n",
      "\n",
      "[(u'sitting', 0.8230099081993103), (u'standing', 0.8168784379959106), (u'chair', 0.8162770867347717), (u'door', 0.796349048614502), (u'floor', 0.7778820991516113), (u'heads', 0.7766067385673523), (u'head', 0.7759051322937012), (u'chairs', 0.7707017660140991), (u'room', 0.7520955801010132), (u'front', 0.7467007637023926)] \n",
      "\n",
      "[(u'cancer', 0.9251570701599121), (u'disease', 0.8655041456222534), (u'diabetes', 0.8587675094604492), (u'cancers', 0.8433023691177368), (u'alzheimer', 0.842052698135376), (u'diseases', 0.8283209800720215), (u'prostate', 0.822224497795105), (u'leukemia', 0.8129850625991821), (u'breast', 0.8082265853881836), (u'patients', 0.801685094833374)] \n",
      "\n",
      "[(u'succulent', 0.8647549152374268), (u'fleshy', 0.8018141984939575), (u'meaty', 0.7550331354141235), (u'fragrant', 0.7451086640357971), (u'edible', 0.7388429641723633), (u'leathery', 0.7365133166313171), (u'flavorful', 0.7273820638656616), (u'juicy', 0.7165677547454834), (u'showy', 0.7104206085205078), (u'berries', 0.6950467824935913)] \n",
      "\n",
      "[(u'engine', 0.9044144749641418), (u'engines', 0.8978459239006042), (u'powered', 0.8280441164970398), (u'cylinder', 0.7971286773681641), (u'chassis', 0.7842718958854675), (u'diesel', 0.772182822227478), (u'turbine', 0.7569540739059448), (u'v-8', 0.7566479444503784), (u'v8', 0.7523514032363892), (u'wheel', 0.7401803731918335)] \n",
      "\n"
     ]
    }
   ],
   "source": [
    "for i in range(k):\n",
    "    print wordvecs.most_similar(positive=[km.cluster_centers_[i]]), '\\n'"
   ]
  },
  {
   "cell_type": "markdown",
   "metadata": {},
   "source": [
    "#### Making mixed topic documents\n",
    "75/25/1 mix between the three sythetic topic vocabs"
   ]
  },
  {
   "cell_type": "code",
   "execution_count": 165,
   "metadata": {
    "collapsed": true
   },
   "outputs": [],
   "source": [
    "import pprint"
   ]
  },
  {
   "cell_type": "code",
   "execution_count": 168,
   "metadata": {
    "collapsed": false
   },
   "outputs": [
    {
     "name": "stdout",
     "output_type": "stream",
     "text": [
      "Pretty printing has been turned ON\n"
     ]
    }
   ],
   "source": [
    "%pprint"
   ]
  },
  {
   "cell_type": "code",
   "execution_count": 171,
   "metadata": {
    "collapsed": false
   },
   "outputs": [
    {
     "name": "stdout",
     "output_type": "stream",
     "text": [
      "[  3.92769749e-08   3.67807412e-02   6.83290035e-01   2.78659874e-01\n",
      "   1.26931049e-03] \n",
      "\n",
      "[ 0.00132502  0.15150718  0.24875551  0.54574768  0.05266461] \n",
      "\n",
      "[  4.16776813e-05   6.14238665e-05   2.38897434e-03   5.47016313e-03\n",
      "   9.92037761e-01] \n",
      "\n",
      "[  2.16898798e-01   4.37502191e-05   1.51767885e-01   1.64987440e-01\n",
      "   4.66302127e-01] \n",
      "\n",
      "[  6.16375958e-02   2.03665941e-01   6.47354915e-01   8.73147323e-02\n",
      "   2.68158983e-05] \n",
      "\n",
      "[ 0.87857735  0.02760496  0.0347181   0.0009593   0.05814029] \n",
      "\n",
      "[ 0.10435697  0.32701836  0.03148838  0.53020324  0.00693305] \n",
      "\n",
      "[  6.37855474e-01   5.65802950e-04   6.59389838e-02   3.89726755e-07\n",
      "   2.95639349e-01] \n",
      "\n",
      "[ 0.22116048  0.18114035  0.00943838  0.40742481  0.18083599] \n",
      "\n",
      "[ 0.0114711   0.00698079  0.03899051  0.84302341  0.09953419] \n",
      "\n"
     ]
    }
   ],
   "source": [
    "for _ in range(10):\n",
    "    print stat.dirichlet.rvs([0.3]*5)[0], \"\\n\""
   ]
  },
  {
   "cell_type": "code",
   "execution_count": 97,
   "metadata": {
    "collapsed": true
   },
   "outputs": [],
   "source": [
    "import scipy.stats as stat"
   ]
  },
  {
   "cell_type": "code",
   "execution_count": 260,
   "metadata": {
    "collapsed": false
   },
   "outputs": [],
   "source": [
    "iterations = 100\n",
    "corpus = []\n",
    "for t in range(iterations):\n",
    "    doc_len = 100\n",
    "#     dirdist = np.array([0.90, 0.1])\n",
    "    dirdist = stat.dirichlet.rvs([.2]*5, random_state=np.random.randint(low=0, high=10000)) # topic distribution in a doc\n",
    "    num_words = dirdist * doc_len # how many words to take from each topic, approx\n",
    "#     print dirdist\n",
    "    # print num_words[0]\n",
    "    BoW = [topic1, topic3,topic4, topic2, topic5]\n",
    "    doc = []\n",
    "    for bag, count in zip(BoW, num_words[0]):\n",
    "\n",
    "\n",
    "        num = int(np.round(count))\n",
    "        for x in range(num):  \n",
    "            doc.append(random.choice(bag)) # randomly choosing words from topic **UNIFORM\n",
    "    random.shuffle(doc)\n",
    "    doc = ' '.join(doc)\n",
    "\n",
    "    corpus.append(doc)"
   ]
  },
  {
   "cell_type": "code",
   "execution_count": 270,
   "metadata": {
    "collapsed": false,
    "scrolled": false
   },
   "outputs": [],
   "source": [
    "# corpus"
   ]
  },
  {
   "cell_type": "code",
   "execution_count": 284,
   "metadata": {
    "collapsed": true
   },
   "outputs": [],
   "source": [
    "# with open('/Users/michael/Documents/GaussianLDA/cleandocs.txt', 'w') as f:\n",
    "#     for doc in corpus:\n",
    "#         f.write(doc + \"\\n\")\n",
    "\n",
    "with open('/Users/michael/Documents/GaussianLDA/cleandocs.txt', 'r') as f:\n",
    "    corpus = f.read().splitlines()\n",
    "\n"
   ]
  },
  {
   "cell_type": "code",
   "execution_count": 285,
   "metadata": {
    "collapsed": false
   },
   "outputs": [
    {
     "data": {
      "text/plain": [
       "'call contact parson within hours free repeat one blood test sample otherwise laboratory shall responsible result repeat sample patient laboratory'"
      ]
     },
     "execution_count": 285,
     "metadata": {},
     "output_type": "execute_result"
    }
   ],
   "source": [
    "corpus[1]"
   ]
  },
  {
   "cell_type": "markdown",
   "metadata": {},
   "source": [
    "## TODO:\n",
    "\n",
    "Start looking at the pdf's of each word and make sure they're being assigned to the right topics... even though the actual topics might be wrong, lets make sure that it is fairly consistant. \n",
    "\n",
    "set a break point for certain intervals, and use the debugger console to check the values. "
   ]
  },
  {
   "cell_type": "code",
   "execution_count": null,
   "metadata": {
    "collapsed": false,
    "scrolled": false
   },
   "outputs": [
    {
     "name": "stdout",
     "output_type": "stream",
     "text": [
      "Done processing corpus with 500 documents\n",
      "There are 4419 words that could be converted to word vectors in your corpus \n",
      "There are 0 words that could NOT be converted to word vectors\n",
      "getting cluster centroids\n",
      "[  647.  1365.  3504.   787.  1619.  3716.  3357.   982.  2766.  4890.\n",
      "   990.  1015.  2391.   627.  1977.   658.  1413.  2059.  1139.  1987.]\n",
      "Initialization complete\n",
      "Starting fit\n",
      "print topic means\n",
      "TOPIC 0: (u'ako', u'ke', u'om', u'za', u'amar', u'sai', u'och', u'stehf', u'yk')\n",
      "TOPIC 1: (u'higher', u'increase', u'increases', u'increased', u'reduced', u'rate', u'low', u'decrease', u'increasing')\n",
      "TOPIC 2: (u'provide', u'providing', u'addition', u'creating', u'limited', u'provided', u'create', u'focus', u'develop')\n",
      "TOPIC 3: (u'gastroparesis', u'aciclovir', u'guaifenesin', u'meprobamate', u'vivitrol', u'catalepsy', u'salmeterol', u'ramipril', u'etanercept')\n",
      "TOPIC 4: (u'serious', u'cause', u'persistent', u'severe', u'caused', u'avoid', u'spite', u'lack', u'result')\n",
      "TOPIC 5: (u'so', u'even', u'how', u'come', u'sure', u'always', u'we', u'way', u'what')\n",
      "TOPIC 6: (u'whether', u'case', u'investigation', u'suggested', u'regarding', u'saying', u'officials', u'that', u'any')\n",
      "TOPIC 7: (u'tissue', u'tissues', u'inflammation', u'cavity', u'lesions', u'membranes', u'spinal', u'epithelial', u'diaphragm')\n",
      "TOPIC 8: (u'therapy', u'patients', u'treatments', u'medication', u'treatment', u'patient', u'treating', u'medications', u'clinical')\n",
      "TOPIC 9: (u'came', u'time', u'on', u'before', u'coming', u'next', u'only', u'last', u'took')\n",
      "TOPIC 10: (u'nose', u'legs', u'fingers', u'thick', u'underneath', u'thin', u'eyes', u'plastic', u'hand')\n",
      "TOPIC 11: (u'respiratory', u'debilitating', u'symptoms', u'inflammation', u'chronic', u'ailments', u'complications', u'disorder', u'disorders')\n",
      "TOPIC 12: (u'as', u'also', u'one', u'for', u'same', u'well', u'.', u'both', u'whose')\n",
      "TOPIC 13: (u'pertinent', u'pertained', u'interpreting', u'contradict', u'particulars', u'insofar', u'erroneous', u'incorrect', u'construed')\n",
      "TOPIC 14: (u'particular', u'certain', u'context', u'rather', u'example', u'specific', u'describe', u'fact', u'merely')\n",
      "TOPIC 15: (u'que', u'ahora', u'donde', u'busca', u'fuera', u'pero', u'tener', u'hacia', u'aunque')\n",
      "TOPIC 16: (u'payments', u'payment', u'fees', u'expenses', u'paying', u'compensation', u'pay', u'pension', u'reimbursement')\n",
      "TOPIC 17: (u'copy', u'user', u'available', u'text', u'using', u'web', u'cards', u'print', u'uses')\n",
      "TOPIC 18: (u'along', u'area', u'where', u'small', u'main', u'outside', u'which', u'large', u'into')\n",
      "TOPIC 19: (u'required', u'consider', u'requires', u'allow', u'necessary', u'requiring', u'accept', u'require', u'ensure')\n",
      "\n",
      "\n",
      "Document-Topic Counts:, [  647.  1365.  3504.   787.  1619.  3716.  3357.   982.  2766.  4890.\n",
      "   990.  1015.  2391.   627.  1977.   658.  1413.  2059.  1139.  1987.]\n",
      "0 docs sampled\n",
      "20 docs sampled\n",
      "40 docs sampled\n",
      "60 docs sampled\n",
      "80 docs sampled\n",
      "100 docs sampled\n",
      "120 docs sampled\n",
      "140 docs sampled\n",
      "160 docs sampled\n",
      "180 docs sampled\n",
      "200 docs sampled\n",
      "220 docs sampled\n",
      "240 docs sampled\n",
      "260 docs sampled\n",
      "280 docs sampled\n",
      "300 docs sampled\n",
      "320 docs sampled\n",
      "340 docs sampled\n",
      "360 docs sampled\n",
      "380 docs sampled\n",
      "400 docs sampled\n",
      "420 docs sampled\n",
      "440 docs sampled\n",
      "460 docs sampled\n",
      "480 docs sampled\n",
      "print topic means\n",
      "TOPIC 0: (u'parson', u'reventlow', u'manton', u'ruger', u'haussler', u'chern', u'hemenway', u'brauer', u'strutt')\n",
      "TOPIC 1: (u'increase', u'enrollment', u'higher', u'increases', u'increased', u'income', u'rate', u'reduced', u'costs')\n",
      "TOPIC 2: (u'provide', u'providing', u'care', u'for', u'health', u'provided', u'require', u'need', u'addition')\n",
      "TOPIC 3: (u'without', u'any', u'same', u'because', u'given', u'for', u'that', u'not', u'be')\n",
      "TOPIC 4: (u'repeat', u'result', u'possible', u'avoid', u'failure', u'serious', u'likely', u'meant', u'possibly')\n",
      "TOPIC 5: (u'not', u'if', u'supposed', u'should', u'any', u'must', u'simply', u'might', u'reason')\n",
      "TOPIC 6: (u'information', u'any', u'documents', u'regarding', u'contact', u'source', u'whether', u'evidence', u'false')\n",
      "TOPIC 7: (u'fetal', u'placenta', u'uterus', u'fetus', u'tissue', u'abnormalities', u'tissues', u'fertilization', u'abnormality')\n",
      "TOPIC 8: (u'patient', u'medical', u'patients', u'treatment', u'doctors', u'clinical', u'treating', u'mental', u'psychiatric')\n",
      "TOPIC 9: (u'same', u'any', u'without', u'given', u'only', u'for', u'because', u'this', u'not')\n",
      "TOPIC 10: (u'blood', u'body', u'found', u'heart', u'skin', u'covered', u'chest', u'eye', u'hand')\n",
      "TOPIC 11: (u'disease', u'infection', u'diseases', u'illness', u'infections', u'respiratory', u'pneumonia', u'illnesses', u'diabetes')\n",
      "TOPIC 12: (u'same', u'because', u'this', u'without', u'that', u'any', u'given', u'only', u'be')\n",
      "TOPIC 13: (u'construed', u'judgment', u'hereby', u'render', u'imply', u'asserting', u'judgments', u'insofar', u'adequately')\n",
      "TOPIC 14: (u'form', u'forms', u'similar', u'particular', u'example', u'thus', u'either', u'usually', u'certain')\n",
      "TOPIC 15: (u'de', u'la', u'del', u'en', u'y', u'con', u'una', u'mercado', u'el')\n",
      "TOPIC 16: (u'insurance', u'pay', u'payments', u'compensation', u'pension', u'payment', u'benefits', u'paying', u'employer')\n",
      "TOPIC 17: (u'sample', u'samples', u'sampling', u'available', u'data', u'check', u'accurate', u'copy', u'random')\n",
      "TOPIC 18: (u'within', u'entire', u'part', u'which', u'of', u'where', u'the', u'beyond', u'between')\n",
      "TOPIC 19: (u'any', u'without', u'given', u'same', u'not', u'because', u'only', u'be', u'to')\n",
      "\n",
      "\n",
      "Document-Topic Counts:, [  275.   130.   923.  7290.   655.   217.  1211.   108.  1357.  7754.\n",
      "   359.    74.  7658.   142.   349.   260.   441.   441.   175.  8070.]\n",
      "0 iterations complete\n",
      "0 docs sampled\n",
      "20 docs sampled\n",
      "40 docs sampled\n",
      "60 docs sampled\n",
      "80 docs sampled\n",
      "100 docs sampled\n",
      "120 docs sampled\n",
      "140 docs sampled\n",
      "160 docs sampled\n",
      "180 docs sampled\n",
      "200 docs sampled\n",
      "220 docs sampled\n",
      "240 docs sampled\n",
      "260 docs sampled\n",
      "280 docs sampled\n",
      "300 docs sampled\n",
      "320 docs sampled\n",
      "340 docs sampled\n",
      "360 docs sampled\n",
      "380 docs sampled\n",
      "400 docs sampled\n",
      "420 docs sampled\n",
      "440 docs sampled\n",
      "460 docs sampled\n",
      "480 docs sampled\n",
      "print topic means\n",
      "TOPIC 0: (u'parson', u'reventlow', u'manton', u'hemenway', u'chern', u'ruger', u'brauer', u'scrope', u'strutt')\n",
      "TOPIC 1: (u'any', u'same', u'without', u'because', u'that', u'this', u'not', u'given', u'be')\n",
      "TOPIC 2: (u'well', u'as', u'one', u'same', u'for', u'only', u'both', u'.', u'also')\n",
      "TOPIC 3: (u'any', u'same', u'given', u'for', u'without', u'instance', u'only', u'not', u'because')\n",
      "TOPIC 4: (u'repeat', u'result', u'possible', u'avoid', u'failure', u'serious', u'likely', u'possibly', u'any')\n",
      "TOPIC 5: (u'lesions', u'lesion', u'tumors', u'tumours', u'cysts', u'cancers', u'precancerous', u'abscesses', u'skin')\n",
      "TOPIC 6: (u'information', u'any', u'documents', u'contact', u'regarding', u'source', u'false', u'details', u'evidence')\n",
      "TOPIC 7: (u'same', u'without', u'any', u'given', u'because', u'for', u'only', u'this', u'that')\n",
      "TOPIC 8: (u'patient', u'medical', u'patients', u'treatment', u'doctors', u'clinical', u'treating', u'mental', u'psychiatric')\n",
      "TOPIC 9: (u'any', u'without', u'same', u'given', u'because', u'instance', u'for', u'not', u'that')\n",
      "TOPIC 10: (u'blood', u'body', u'found', u'heart', u'skin', u'covered', u'eye', u'hand', u'water')\n",
      "TOPIC 11: (u'medication', u'drugs', u'medications', u'treatment', u'treating', u'treat', u'prescription', u'patients', u'drug')\n",
      "TOPIC 12: (u'any', u'for', u'without', u'same', u'given', u'to', u'instance', u'that', u'not')\n",
      "TOPIC 13: (u'any', u'without', u'given', u'same', u'because', u'not', u'be', u'only', u'for')\n",
      "TOPIC 14: (u'same', u'without', u'given', u'because', u'any', u'this', u'only', u'be', u'either')\n",
      "TOPIC 15: (u'same', u'without', u'any', u'because', u'this', u'be', u'given', u'that', u'only')\n",
      "TOPIC 16: (u'pay', u'benefits', u'payments', u'compensation', u'insurance', u'benefit', u'paying', u'payment', u'receive')\n",
      "TOPIC 17: (u'sample', u'copy', u'samples', u'available', u'contents', u'contained', u'text', u'read', u'data')\n",
      "TOPIC 18: (u'rather', u'either', u'instead', u'without', u'enough', u'making', u'determined', u'means', u'necessary')\n",
      "TOPIC 19: (u'any', u'be', u'only', u'not', u'given', u'without', u'either', u'same', u'taken')\n",
      "\n",
      "\n",
      "Document-Topic Counts:, [  3.14000000e+02   3.67100000e+03   2.97000000e+02   6.62600000e+03\n",
      "   6.85000000e+02   5.00000000e+00   1.15900000e+03   7.71700000e+03\n",
      "   1.34200000e+03   0.00000000e+00   3.51000000e+02   1.30000000e+01\n",
      "   1.31500000e+03   5.29400000e+03   3.96800000e+03   3.90700000e+03\n",
      "   7.19000000e+02   2.44000000e+02   4.10000000e+01   2.21000000e+02]\n",
      "1 iterations complete\n",
      "0 docs sampled\n",
      "20 docs sampled\n",
      "40 docs sampled\n",
      "60 docs sampled\n",
      "80 docs sampled\n",
      "100 docs sampled\n",
      "120 docs sampled\n",
      "140 docs sampled\n",
      "160 docs sampled\n",
      "180 docs sampled\n",
      "200 docs sampled\n",
      "220 docs sampled\n",
      "240 docs sampled\n",
      "260 docs sampled\n",
      "280 docs sampled\n",
      "300 docs sampled"
     ]
    }
   ],
   "source": [
    "import FastGaussianLDA2\n",
    "reload(FastGaussianLDA2)\n",
    "g = FastGaussianLDA2.Gauss_LDA(20, corpus,\n",
    "                              word_vector_model=wordvecs, alpha=.2)\n",
    "g.fit(100)"
   ]
  },
  {
   "cell_type": "code",
   "execution_count": 5,
   "metadata": {
    "collapsed": true
   },
   "outputs": [],
   "source": [
    "import matplotlib.pyplot as plt\n",
    "from IPython import display\n",
    "import time\n",
    "from collections import Counter\n",
    "%matplotlib inline"
   ]
  },
  {
   "cell_type": "code",
   "execution_count": null,
   "metadata": {
    "collapsed": true
   },
   "outputs": [],
   "source": []
  },
  {
   "cell_type": "code",
   "execution_count": null,
   "metadata": {
    "collapsed": true
   },
   "outputs": [],
   "source": []
  },
  {
   "cell_type": "code",
   "execution_count": null,
   "metadata": {
    "collapsed": true
   },
   "outputs": [],
   "source": []
  },
  {
   "cell_type": "code",
   "execution_count": 268,
   "metadata": {
    "collapsed": false
   },
   "outputs": [
    {
     "name": "stdout",
     "output_type": "stream",
     "text": [
      "Done processing corpus with 100 documents\n",
      "There are 50 words that could be converted to word vectors in your corpus \n",
      "There are 0 words that could NOT be converted to word vectors\n",
      "getting cluster centroids\n",
      "[ 1849.  2064.  2112.  2037.  1941.]\n",
      "Initialization complete\n",
      "Starting fit\n",
      "print topic means\n",
      "TOPIC 0: (u'engines', u'engine', u'powered', u'turbine', u'diesel', u'locomotive', u'cylinder', u'steam', u'chassis')\n",
      "TOPIC 1: (u'panda', u'dolphin', u'pandas', u'cub', u'orca', u'wolong', u'whale', u'elephant', u'shark')\n",
      "TOPIC 2: (u'sitting', u'standing', u'heads', u'room', u'floor', u'chair', u'head', u'door', u'sat')\n",
      "TOPIC 3: (u'succulent', u'roasted', u'cabbage', u'pickled', u'eggplant', u'cucumber', u'sauteed', u'celery', u'zucchini')\n",
      "TOPIC 4: (u'cancer', u'diabetes', u'cancers', u'disease', u'infection', u'alzheimer', u'prostate', u'diagnosed', u'patients')\n",
      "\n",
      "\n",
      "Document-Topic Counts:, [ 1849.  2064.  2112.  2037.  1941.]\n",
      "0 docs sampled\n",
      "20 docs sampled\n",
      "40 docs sampled\n",
      "60 docs sampled\n",
      "80 docs sampled\n",
      "print topic means\n",
      "TOPIC 0: (u'engines', u'engine', u'powered', u'turbine', u'diesel', u'locomotive', u'cylinder', u'steam', u'chassis')\n",
      "TOPIC 1: (u'small', u'skin', u'usually', u'tree', u'sized', u'bird', u'animal', u'body', u'eating')\n",
      "TOPIC 2: (u'sitting', u'standing', u'heads', u'room', u'floor', u'chair', u'head', u'door', u'sat')\n",
      "TOPIC 3: (u'succulent', u'roasted', u'cabbage', u'pickled', u'eggplant', u'cucumber', u'celery', u'sauteed', u'fleshy')\n",
      "TOPIC 4: (u'cancer', u'diabetes', u'cancers', u'disease', u'infection', u'alzheimer', u'prostate', u'diagnosed', u'patients')\n",
      "\n",
      "\n",
      "Document-Topic Counts:, [  9.80600000e+03   0.00000000e+00   1.87000000e+02   2.00000000e+00\n",
      "   8.00000000e+00]\n",
      "0 iterations complete\n",
      "0 docs sampled\n",
      "20 docs sampled\n",
      "40 docs sampled\n",
      "60 docs sampled\n",
      "80 docs sampled\n",
      "print topic means\n",
      "TOPIC 0: (u'engines', u'engine', u'powered', u'turbine', u'diesel', u'locomotive', u'cylinder', u'steam', u'chassis')\n",
      "TOPIC 1: (u'panda', u'dolphin', u'pandas', u'cub', u'wolong', u'orca', u'whale', u'elephant', u'shark')\n",
      "TOPIC 2: (u'sitting', u'standing', u'heads', u'room', u'floor', u'chair', u'head', u'door', u'sat')\n",
      "TOPIC 3: (u'succulent', u'roasted', u'cabbage', u'pickled', u'eggplant', u'cucumber', u'celery', u'sauteed', u'fleshy')\n",
      "TOPIC 4: (u'cancer', u'diabetes', u'cancers', u'disease', u'infection', u'alzheimer', u'prostate', u'diagnosed', u'patients')\n",
      "\n",
      "\n",
      "Document-Topic Counts:, [ 1920.  1105.   142.  3364.  3472.]\n",
      "1 iterations complete\n",
      "0 docs sampled\n",
      "20 docs sampled\n",
      "40 docs sampled\n",
      "60 docs sampled\n",
      "80 docs sampled\n",
      "print topic means\n",
      "TOPIC 0: (u'small', u'skin', u'usually', u'tree', u'sized', u'bird', u'animal', u'body', u'eating')\n",
      "TOPIC 1: (u'panda', u'dolphin', u'pandas', u'cub', u'wolong', u'orca', u'whale', u'elephant', u'shark')\n",
      "TOPIC 2: (u'sitting', u'standing', u'heads', u'room', u'floor', u'chair', u'head', u'door', u'sat')\n",
      "TOPIC 3: (u'succulent', u'roasted', u'cabbage', u'pickled', u'eggplant', u'cucumber', u'celery', u'sauteed', u'fleshy')\n",
      "TOPIC 4: (u'cancer', u'diabetes', u'cancers', u'disease', u'infection', u'alzheimer', u'prostate', u'diagnosed', u'patients')\n",
      "\n",
      "\n",
      "Document-Topic Counts:, [    0.  1105.   582.  3995.  4321.]\n",
      "2 iterations complete\n",
      "0 docs sampled\n",
      "20 docs sampled\n",
      "40 docs sampled\n",
      "60 docs sampled\n",
      "80 docs sampled\n",
      "print topic means\n",
      "TOPIC 0: (u'small', u'skin', u'usually', u'tree', u'sized', u'bird', u'animal', u'body', u'eating')\n",
      "TOPIC 1: (u'panda', u'dolphin', u'pandas', u'cub', u'wolong', u'orca', u'whale', u'elephant', u'shark')\n",
      "TOPIC 2: (u'sitting', u'standing', u'heads', u'room', u'floor', u'chair', u'head', u'door', u'sat')\n",
      "TOPIC 3: (u'succulent', u'roasted', u'cabbage', u'pickled', u'eggplant', u'cucumber', u'celery', u'sauteed', u'fleshy')\n",
      "TOPIC 4: (u'cancer', u'diabetes', u'cancers', u'disease', u'infection', u'alzheimer', u'prostate', u'diagnosed', u'patients')\n",
      "\n",
      "\n",
      "Document-Topic Counts:, [    0.  1105.   582.  3995.  4321.]\n",
      "3 iterations complete\n",
      "0 docs sampled\n",
      "20 docs sampled\n",
      "40 docs sampled\n",
      "60 docs sampled\n"
     ]
    },
    {
     "ename": "KeyboardInterrupt",
     "evalue": "",
     "output_type": "error",
     "traceback": [
      "\u001b[0;31m---------------------------------------------------------------------------\u001b[0m",
      "\u001b[0;31mKeyboardInterrupt\u001b[0m                         Traceback (most recent call last)",
      "\u001b[0;32m<ipython-input-268-097ec66ef54c>\u001b[0m in \u001b[0;36m<module>\u001b[0;34m()\u001b[0m\n\u001b[1;32m      3\u001b[0m g = FastGaussianLDA2.Gauss_LDA(5, corpus,\n\u001b[1;32m      4\u001b[0m                               word_vector_model=wordvecs, alpha=.25)\n\u001b[0;32m----> 5\u001b[0;31m \u001b[0mg\u001b[0m\u001b[0;34m.\u001b[0m\u001b[0mfit\u001b[0m\u001b[0;34m(\u001b[0m\u001b[0;36m100\u001b[0m\u001b[0;34m)\u001b[0m\u001b[0;34m\u001b[0m\u001b[0m\n\u001b[0m",
      "\u001b[0;32m/Users/michael/Documents/GaussianLDA/FastGaussianLDA2.pyc\u001b[0m in \u001b[0;36mfit\u001b[0;34m(self, iterations, init)\u001b[0m\n\u001b[1;32m    143\u001b[0m         \u001b[0;32mfor\u001b[0m \u001b[0mi\u001b[0m \u001b[0;32min\u001b[0m \u001b[0mrange\u001b[0m\u001b[0;34m(\u001b[0m\u001b[0miterations\u001b[0m\u001b[0;34m)\u001b[0m\u001b[0;34m:\u001b[0m\u001b[0;34m\u001b[0m\u001b[0m\n\u001b[1;32m    144\u001b[0m \u001b[0;34m\u001b[0m\u001b[0m\n\u001b[0;32m--> 145\u001b[0;31m             \u001b[0mself\u001b[0m\u001b[0;34m.\u001b[0m\u001b[0msample\u001b[0m\u001b[0;34m(\u001b[0m\u001b[0;34m)\u001b[0m\u001b[0;34m\u001b[0m\u001b[0m\n\u001b[0m\u001b[1;32m    146\u001b[0m             \u001b[0;32mprint\u001b[0m \u001b[0;34m\"{0} iterations complete\"\u001b[0m\u001b[0;34m.\u001b[0m\u001b[0mformat\u001b[0m\u001b[0;34m(\u001b[0m\u001b[0mi\u001b[0m\u001b[0;34m)\u001b[0m\u001b[0;34m\u001b[0m\u001b[0m\n\u001b[1;32m    147\u001b[0m             \u001b[0;31m# for k in xrange(self.numtopics):\u001b[0m\u001b[0;34m\u001b[0m\u001b[0;34m\u001b[0m\u001b[0m\n",
      "\u001b[0;32m/Users/michael/Documents/GaussianLDA/FastGaussianLDA2.pyc\u001b[0m in \u001b[0;36msample\u001b[0;34m(self)\u001b[0m\n\u001b[1;32m    296\u001b[0m \u001b[0;34m\u001b[0m\u001b[0m\n\u001b[1;32m    297\u001b[0m \u001b[0;34m\u001b[0m\u001b[0m\n\u001b[0;32m--> 298\u001b[0;31m                 \u001b[0mself\u001b[0m\u001b[0;34m.\u001b[0m\u001b[0mrecalculate_topic_params\u001b[0m\u001b[0;34m(\u001b[0m\u001b[0mword\u001b[0m\u001b[0;34m,\u001b[0m \u001b[0mcurrent_topic\u001b[0m\u001b[0;34m,\u001b[0m \u001b[0mdocID\u001b[0m\u001b[0;34m,\u001b[0m \u001b[0;34m\"-\"\u001b[0m\u001b[0;34m)\u001b[0m\u001b[0;34m\u001b[0m\u001b[0m\n\u001b[0m\u001b[1;32m    299\u001b[0m                 \u001b[0mlog_posterior\u001b[0m \u001b[0;34m=\u001b[0m \u001b[0mnp\u001b[0m\u001b[0;34m.\u001b[0m\u001b[0mzeros\u001b[0m\u001b[0;34m(\u001b[0m\u001b[0mself\u001b[0m\u001b[0;34m.\u001b[0m\u001b[0mnumtopics\u001b[0m\u001b[0;34m)\u001b[0m\u001b[0;34m\u001b[0m\u001b[0m\n\u001b[1;32m    300\u001b[0m                 \u001b[0;32mfor\u001b[0m \u001b[0mk\u001b[0m \u001b[0;32min\u001b[0m \u001b[0mrange\u001b[0m\u001b[0;34m(\u001b[0m\u001b[0mself\u001b[0m\u001b[0;34m.\u001b[0m\u001b[0mnumtopics\u001b[0m\u001b[0;34m)\u001b[0m\u001b[0;34m:\u001b[0m  \u001b[0;31m# Get PDF for each possible word-topic assignment\u001b[0m\u001b[0;34m\u001b[0m\u001b[0m\n",
      "\u001b[0;32m/Users/michael/Documents/GaussianLDA/FastGaussianLDA2.pyc\u001b[0m in \u001b[0;36mrecalculate_topic_params\u001b[0;34m(self, word, topic, docID, operation, init)\u001b[0m\n\u001b[1;32m    343\u001b[0m             \u001b[0mcentered\u001b[0m \u001b[0;34m=\u001b[0m \u001b[0;34m(\u001b[0m\u001b[0mself\u001b[0m\u001b[0;34m.\u001b[0m\u001b[0mword_vecs\u001b[0m\u001b[0;34m[\u001b[0m\u001b[0mword\u001b[0m\u001b[0;34m]\u001b[0m \u001b[0;34m-\u001b[0m \u001b[0mself\u001b[0m\u001b[0;34m.\u001b[0m\u001b[0mtopic_params\u001b[0m\u001b[0;34m[\u001b[0m\u001b[0mtopic\u001b[0m\u001b[0;34m]\u001b[0m\u001b[0;34m[\u001b[0m\u001b[0;34m\"Topic Mean\"\u001b[0m\u001b[0;34m]\u001b[0m\u001b[0;34m)\u001b[0m  \u001b[0;31m# Get rank-1 matrix from point\u001b[0m\u001b[0;34m\u001b[0m\u001b[0m\n\u001b[1;32m    344\u001b[0m             \u001b[0mcentered\u001b[0m \u001b[0;34m*=\u001b[0m \u001b[0mnp\u001b[0m\u001b[0;34m.\u001b[0m\u001b[0msqrt\u001b[0m\u001b[0;34m(\u001b[0m\u001b[0;34m(\u001b[0m\u001b[0mkappa_k\u001b[0m \u001b[0;34m+\u001b[0m \u001b[0;36m1.\u001b[0m\u001b[0;34m)\u001b[0m \u001b[0;34m/\u001b[0m \u001b[0mkappa_k\u001b[0m\u001b[0;34m)\u001b[0m  \u001b[0;31m# Scale for recursive downdate\u001b[0m\u001b[0;34m\u001b[0m\u001b[0m\n\u001b[0;32m--> 345\u001b[0;31m             \u001b[0mL\u001b[0m \u001b[0;34m=\u001b[0m \u001b[0mself\u001b[0m\u001b[0;34m.\u001b[0m\u001b[0msolver\u001b[0m\u001b[0;34m.\u001b[0m\u001b[0mchol_downdate\u001b[0m\u001b[0;34m(\u001b[0m\u001b[0mL\u001b[0m\u001b[0;34m,\u001b[0m \u001b[0mcentered\u001b[0m\u001b[0;34m)\u001b[0m  \u001b[0;31m# Choleksy downdate\u001b[0m\u001b[0;34m\u001b[0m\u001b[0m\n\u001b[0m\u001b[1;32m    346\u001b[0m             \u001b[0mself\u001b[0m\u001b[0;34m.\u001b[0m\u001b[0mtopic_params\u001b[0m\u001b[0;34m[\u001b[0m\u001b[0mtopic\u001b[0m\u001b[0;34m]\u001b[0m\u001b[0;34m[\u001b[0m\u001b[0;34m\"Lower Triangle\"\u001b[0m\u001b[0;34m]\u001b[0m \u001b[0;34m=\u001b[0m \u001b[0mL\u001b[0m\u001b[0;34m\u001b[0m\u001b[0m\n\u001b[1;32m    347\u001b[0m \u001b[0;34m\u001b[0m\u001b[0m\n",
      "\u001b[0;31mKeyboardInterrupt\u001b[0m: "
     ]
    }
   ],
   "source": [
    "import FastGaussianLDA2\n",
    "reload(FastGaussianLDA2)\n",
    "g = FastGaussianLDA2.Gauss_LDA(5, corpus,\n",
    "                              word_vector_model=wordvecs, alpha=.25)\n",
    "g.fit(100)"
   ]
  },
  {
   "cell_type": "code",
   "execution_count": null,
   "metadata": {
    "collapsed": false,
    "scrolled": false
   },
   "outputs": [],
   "source": []
  },
  {
   "cell_type": "code",
   "execution_count": 578,
   "metadata": {
    "collapsed": false,
    "scrolled": true
   },
   "outputs": [
    {
     "data": {
      "image/png": "[encoded data removed]",
      "text/plain": [
       "<matplotlib.figure.Figure at 0x12f92d890>"
      ]
     },
     "metadata": {},
     "output_type": "display_data"
    },
    {
     "data": {
      "text/plain": [
       "Counter({0: 27, 1: 2165})"
      ]
     },
     "metadata": {},
     "output_type": "display_data"
    },
    {
     "ename": "KeyboardInterrupt",
     "evalue": "",
     "output_type": "error",
     "traceback": [
      "\u001b[0;31m---------------------------------------------------------------------------\u001b[0m",
      "\u001b[0;31mKeyboardInterrupt\u001b[0m                         Traceback (most recent call last)",
      "\u001b[0;32m<ipython-input-578-5376a4cda62b>\u001b[0m in \u001b[0;36m<module>\u001b[0;34m()\u001b[0m\n\u001b[1;32m      7\u001b[0m     \u001b[0mdisplay\u001b[0m\u001b[0;34m.\u001b[0m\u001b[0mdisplay\u001b[0m\u001b[0;34m(\u001b[0m\u001b[0mplt\u001b[0m\u001b[0;34m.\u001b[0m\u001b[0mgcf\u001b[0m\u001b[0;34m(\u001b[0m\u001b[0;34m)\u001b[0m\u001b[0;34m,\u001b[0m \u001b[0mCounter\u001b[0m\u001b[0;34m(\u001b[0m\u001b[0mg\u001b[0m\u001b[0;34m.\u001b[0m\u001b[0mtest_word_topics\u001b[0m\u001b[0;34m[\u001b[0m\u001b[0mk\u001b[0m\u001b[0;34m]\u001b[0m\u001b[0;34m)\u001b[0m\u001b[0;34m)\u001b[0m\u001b[0;34m\u001b[0m\u001b[0m\n\u001b[1;32m      8\u001b[0m     \u001b[0mplt\u001b[0m\u001b[0;34m.\u001b[0m\u001b[0mcla\u001b[0m\u001b[0;34m(\u001b[0m\u001b[0;34m)\u001b[0m\u001b[0;34m\u001b[0m\u001b[0m\n\u001b[0;32m----> 9\u001b[0;31m     \u001b[0mtime\u001b[0m\u001b[0;34m.\u001b[0m\u001b[0msleep\u001b[0m\u001b[0;34m(\u001b[0m\u001b[0;36m1.0\u001b[0m\u001b[0;34m)\u001b[0m\u001b[0;34m\u001b[0m\u001b[0m\n\u001b[0m\u001b[1;32m     10\u001b[0m \u001b[0;34m\u001b[0m\u001b[0m\n",
      "\u001b[0;31mKeyboardInterrupt\u001b[0m: "
     ]
    },
    {
     "data": {
      "image/png": "[encoded data removed]",
      "text/plain": [
       "<matplotlib.figure.Figure at 0x12f92d890>"
      ]
     },
     "metadata": {},
     "output_type": "display_data"
    }
   ],
   "source": [
    "for k in g.test_word_topics.keys():\n",
    "    print k\n",
    "    plt.hist(g.test_word_topics[k], 4, (0,4))\n",
    "    print Counter(g.test_word_topics[k])\n",
    "    plt.title(k, size=20)\n",
    "    display.clear_output(wait=True)\n",
    "    display.display(plt.gcf(), Counter(g.test_word_topics[k]))\n",
    "    plt.cla()\n",
    "    time.sleep(1.0)"
   ]
  },
  {
   "cell_type": "markdown",
   "metadata": {},
   "source": [
    "### TODO:\n",
    "Run tests:\n",
    "\n",
    "- check that on first doc in first iteration: words are assigned to right topic\n",
    "- check Das output again"
   ]
  }
 ],
 "metadata": {
  "kernelspec": {
   "display_name": "Python 2",
   "language": "python",
   "name": "python2"
  }
 },
 "nbformat": 4,
 "nbformat_minor": 0
}
