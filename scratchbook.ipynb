{
 "cells": [
  {
   "cell_type": "code",
   "execution_count": 3,
   "metadata": {
    "collapsed": false
   },
   "outputs": [],
   "source": [
    "from __future__ import division\n",
    "\n",
    "import numpy as np\n",
    "from gensim.models import Word2Vec \n",
    "import scipy.stats as stat\n",
    "from scipy.special import gamma\n",
    "import scipy\n",
    "from numpy import pi\n",
    "import time\n",
    "import line_profiler\n",
    "import cProfile\n",
    "import IPython\n",
    "ip = IPython.get_ipython()\n",
    "ip.define_magic('lprun', line_profiler.magic_lprun)\n",
    "%load_ext line_profiler\n",
    "%load_ext autoreload\n"
   ]
  },
  {
   "cell_type": "code",
   "execution_count": 6,
   "metadata": {
    "collapsed": false
   },
   "outputs": [
    {
     "name": "stderr",
     "output_type": "stream",
     "text": [
      "WARNING:gensim.models.word2vec:consider setting layer size to a multiple of 4 for greater performance\n"
     ]
    }
   ],
   "source": [
    "wordvecs = Word2Vec.load_word2vec_format(\n",
    "    \"/Users/michael/Documents/Gaussian_LDA-master/data/glove.wiki/glove.6B.50d.txt\", binary=False)"
   ]
  },
  {
   "cell_type": "code",
   "execution_count": 19,
   "metadata": {
    "collapsed": false
   },
   "outputs": [
    {
     "name": "stdout",
     "output_type": "stream",
     "text": [
      "Done processing corpus with 24 documents\n",
      "There are 24 words that could be convereted to word vectors in your corpus \n",
      "There are 0 words that could NOT be converted to word vectors\n",
      "Intialization complete\n",
      "Starting fit\n",
      "0 iterations complete\n",
      "1 iterations complete\n",
      "2 iterations complete\n",
      "3 iterations complete\n",
      "4 iterations complete\n",
      "5 iterations complete\n",
      "6 iterations complete\n",
      "7 iterations complete\n",
      "8 iterations complete\n",
      "9 iterations complete\n",
      "topic assignments are whack\n",
      "topic assignments are whack\n",
      "topic assignments are whack\n",
      "topic assignments are whack\n",
      "topic assignments are whack\n",
      "topic assignments are whack\n",
      "topic assignments are whack\n",
      "topic assignments are whack\n",
      "10 iterations complete\n",
      "11 iterations complete\n",
      "12 iterations complete\n",
      "13 iterations complete\n",
      "14 iterations complete\n",
      "15 iterations complete\n",
      "16 iterations complete\n",
      "17 iterations complete\n",
      "18 iterations complete\n",
      "19 iterations complete\n",
      "20 iterations complete\n",
      "21 iterations complete\n",
      "22 iterations complete\n",
      "23 iterations complete\n",
      "24 iterations complete\n",
      "25 iterations complete\n",
      "topic assignments are whack\n",
      "topic assignments are whack\n",
      "topic assignments are whack\n",
      "topic assignments are whack\n",
      "26 iterations complete\n",
      "27 iterations complete\n",
      "28 iterations complete\n",
      "topic assignments are whack\n",
      "topic assignments are whack\n",
      "topic assignments are whack\n",
      "topic assignments are whack\n",
      "topic assignments are whack\n",
      "topic assignments are whack\n",
      "topic assignments are whack\n",
      "29 iterations complete\n",
      "30 iterations complete\n",
      "31 iterations complete\n",
      "32 iterations complete\n",
      "33 iterations complete\n",
      "34 iterations complete\n",
      "35 iterations complete\n",
      "topic assignments are whack\n",
      "topic assignments are whack\n",
      "topic assignments are whack\n",
      "topic assignments are whack\n",
      "topic assignments are whack\n",
      "topic assignments are whack\n",
      "topic assignments are whack\n",
      "topic assignments are whack\n",
      "topic assignments are whack\n",
      "topic assignments are whack\n",
      "topic assignments are whack\n",
      "topic assignments are whack\n",
      "36 iterations complete\n",
      "37 iterations complete\n",
      "38 iterations complete\n",
      "39 iterations complete\n",
      "40 iterations complete\n",
      "41 iterations complete\n",
      "42 iterations complete\n",
      "43 iterations complete\n",
      "44 iterations complete\n",
      "45 iterations complete\n",
      "46 iterations complete\n",
      "47 iterations complete\n",
      "48 iterations complete\n",
      "49 iterations complete\n",
      "50 iterations complete\n",
      "51 iterations complete\n",
      "52 iterations complete\n",
      "53 iterations complete\n",
      "54 iterations complete\n",
      "55 iterations complete\n",
      "56 iterations complete\n",
      "57 iterations complete\n",
      "58 iterations complete\n",
      "59 iterations complete\n",
      "60 iterations complete\n",
      "61 iterations complete\n",
      "62 iterations complete\n",
      "63 iterations complete\n",
      "64 iterations complete\n",
      "65 iterations complete\n",
      "66 iterations complete\n",
      "67 iterations complete\n",
      "68 iterations complete\n",
      "69 iterations complete\n",
      "70 iterations complete\n",
      "71 iterations complete\n",
      "72 iterations complete\n",
      "73 iterations complete\n",
      "74 iterations complete\n",
      "75 iterations complete\n",
      "76 iterations complete\n",
      "77 iterations complete\n",
      "78 iterations complete\n",
      "79 iterations complete\n",
      "80 iterations complete\n",
      "81 iterations complete\n",
      "82 iterations complete\n",
      "83 iterations complete\n",
      "84 iterations complete\n",
      "85 iterations complete\n",
      "86 iterations complete\n",
      "topic assignments are whack\n",
      "topic assignments are whack\n",
      "topic assignments are whack\n",
      "topic assignments are whack\n",
      "topic assignments are whack\n",
      "topic assignments are whack\n",
      "87 iterations complete\n",
      "88 iterations complete\n",
      "89 iterations complete\n",
      "topic assignments are whack\n",
      "topic assignments are whack\n",
      "90 iterations complete\n",
      "91 iterations complete\n",
      "92 iterations complete\n",
      "93 iterations complete\n",
      "94 iterations complete\n",
      "95 iterations complete\n",
      "96 iterations complete\n",
      "97 iterations complete\n",
      "98 iterations complete\n",
      "99 iterations complete\n",
      "197.539971113\n"
     ]
    }
   ],
   "source": [
    "import FastGaussianLDA\n",
    "%aimport FastGaussianLDA\n",
    "%autoreload 1\n",
    "# import GaussianLDA\n",
    "# reload(Gauss_LDA)\n",
    "# reload(GaussianLDA)\n",
    "start  = time.time()\n",
    "\n",
    "corpus = ['apple banana mango melon',\n",
    " 'barrel cannon gun war',\n",
    " 'democrat republican senate politics']\n",
    "corpus2 = [\"apple orange mango melon \", \"canvas art mural paint painting \", \"pineapple kiwi grape strawberry \",\n",
    "              \"picture frame picasso sculpture art \", \"coconut guava blueberry blackberry \", \"statue monument art artist \"]\n",
    "corpus2 = [sent * 5 for sent in corpus2]*4\n",
    "wordvec_fileapth = \"/Users/michael/Documents/Gaussian_LDA-master/data/glove.wiki/glove.6B.50d.txt\"\n",
    "g = FastGaussianLDA.Gauss_LDA(3, corpus2, word_vector_model=wordvecs)\n",
    "g.fit(100)\n",
    "print (time.time()-start)"
   ]
  },
  {
   "cell_type": "code",
   "execution_count": 10,
   "metadata": {
    "collapsed": false
   },
   "outputs": [
    {
     "data": {
      "text/plain": [
       "{}"
      ]
     },
     "execution_count": 10,
     "metadata": {},
     "output_type": "execute_result"
    }
   ],
   "source": [
    "g.word_vecs"
   ]
  },
  {
   "cell_type": "markdown",
   "metadata": {},
   "source": [
    "old time was 237 secs on 30 iterations without NUMBA"
   ]
  },
  {
   "cell_type": "code",
   "execution_count": 20,
   "metadata": {
    "collapsed": false
   },
   "outputs": [
    {
     "data": {
      "text/plain": [
       "[(u'sculpture', 0.8271721601486206),\n",
       " (u'painting', 0.8245132565498352),\n",
       " (u'art', 0.803730845451355),\n",
       " (u'collection', 0.7746897339820862),\n",
       " (u'garden', 0.7652238011360168),\n",
       " (u'famous', 0.7629948854446411),\n",
       " (u'works', 0.7435003519058228),\n",
       " (u'paintings', 0.7393991947174072),\n",
       " (u'sculptures', 0.7150182723999023),\n",
       " (u'glass', 0.7109430432319641)]"
      ]
     },
     "execution_count": 20,
     "metadata": {},
     "output_type": "execute_result"
    }
   ],
   "source": [
    "mean1 = g.topic_params[0][\"Topic Mean\"]; mean2 = g.topic_params[1][\"Topic Mean\"]; mean3 = g.topic_params[2][\"Topic Mean\"]\n",
    "wordvecs.most_similar(positive=[mean1])"
   ]
  },
  {
   "cell_type": "code",
   "execution_count": 21,
   "metadata": {
    "collapsed": false
   },
   "outputs": [
    {
     "data": {
      "text/plain": [
       "[(u'colored', 0.8344143629074097),\n",
       " (u'painted', 0.8143922090530396),\n",
       " (u'canvas', 0.8039060831069946),\n",
       " (u'paint', 0.8033887147903442),\n",
       " (u'green', 0.8015591502189636),\n",
       " (u'pink', 0.781296968460083),\n",
       " (u'shaped', 0.7649050951004028),\n",
       " (u'shiny', 0.7583204507827759),\n",
       " (u'piece', 0.7541706562042236),\n",
       " (u'bright', 0.7407790422439575)]"
      ]
     },
     "execution_count": 21,
     "metadata": {},
     "output_type": "execute_result"
    }
   ],
   "source": [
    "wordvecs.most_similar(positive=[mean2])"
   ]
  },
  {
   "cell_type": "code",
   "execution_count": 22,
   "metadata": {
    "collapsed": false
   },
   "outputs": [
    {
     "data": {
      "text/plain": [
       "[(u'mango', 0.8706889152526855),\n",
       " (u'pineapple', 0.8398306369781494),\n",
       " (u'coconut', 0.8316406011581421),\n",
       " (u'peach', 0.8135504722595215),\n",
       " (u'fruit', 0.8121268153190613),\n",
       " (u'apricot', 0.7849801778793335),\n",
       " (u'juice', 0.7718098163604736),\n",
       " (u'plum', 0.7694075107574463),\n",
       " (u'banana', 0.7686874866485596),\n",
       " (u'cherry', 0.7675427198410034)]"
      ]
     },
     "execution_count": 22,
     "metadata": {},
     "output_type": "execute_result"
    }
   ],
   "source": [
    "wordvecs.most_similar(positive=[mean3])"
   ]
  },
  {
   "cell_type": "code",
   "execution_count": null,
   "metadata": {
    "collapsed": true
   },
   "outputs": [],
   "source": [
    "newdoc = \"fruit apple orange mango taco painting sculpture book art artist picasso\""
   ]
  },
  {
   "cell_type": "code",
   "execution_count": null,
   "metadata": {
    "collapsed": false
   },
   "outputs": [],
   "source": [
    "def myfunc(mat):\n",
    "    np.linalg.det(mat)\n",
    "    return np.linalg.inv(mat)\n",
    "    \n",
    "%prun myfunc(np.arange(100).reshape(10,10))"
   ]
  },
  {
   "cell_type": "code",
   "execution_count": null,
   "metadata": {
    "collapsed": false
   },
   "outputs": [],
   "source": []
  },
  {
   "cell_type": "code",
   "execution_count": 6,
   "metadata": {
    "collapsed": false
   },
   "outputs": [],
   "source": [
    "a = None\n",
    "if a: print 'yes'"
   ]
  },
  {
   "cell_type": "code",
   "execution_count": null,
   "metadata": {
    "collapsed": true
   },
   "outputs": [],
   "source": []
  }
 ],
 "metadata": {
  "kernelspec": {
   "display_name": "Python 2",
   "language": "python",
   "name": "python2"
  },
  "language_info": {
   "codemirror_mode": {
    "name": "ipython",
    "version": 2
   },
   "file_extension": ".py",
   "mimetype": "text/x-python",
   "name": "python",
   "nbconvert_exporter": "python",
   "pygments_lexer": "ipython2",
   "version": "2.7.11"
  }
 },
 "nbformat": 4,
 "nbformat_minor": 0
}
