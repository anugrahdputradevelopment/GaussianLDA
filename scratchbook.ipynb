{
 "cells": [
  {
   "cell_type": "code",
   "execution_count": 1,
   "metadata": {
    "collapsed": false
   },
   "outputs": [],
   "source": [
    "from __future__ import division\n",
    "\n",
    "import numpy as np\n",
    "from gensim.models import Word2Vec \n",
    "import scipy.stats as stat\n",
    "from scipy.special import gamma\n",
    "import scipy\n",
    "from numpy import pi\n",
    "import time\n",
    "import line_profiler\n",
    "import cProfile\n",
    "import IPython\n",
    "ip = IPython.get_ipython()\n",
    "ip.define_magic('lprun', line_profiler.magic_lprun)\n",
    "%load_ext line_profiler"
   ]
  },
  {
   "cell_type": "code",
   "execution_count": 2,
   "metadata": {
    "collapsed": false
   },
   "outputs": [
    {
     "name": "stderr",
     "output_type": "stream",
     "text": [
      "WARNING:gensim.models.word2vec:consider setting layer size to a multiple of 4 for greater performance\n"
     ]
    }
   ],
   "source": [
    "wordvecs = Word2Vec.load_word2vec_format(\n",
    "    \"/Users/michael/Documents/Gaussian_LDA-master/data/glove.wiki/glove.6B.50d.txt\", binary=False)"
   ]
  },
  {
   "cell_type": "code",
   "execution_count": 10,
   "metadata": {
    "collapsed": false
   },
   "outputs": [
    {
     "name": "stderr",
     "output_type": "stream",
     "text": [
      "WARNING:gensim.models.word2vec:consider setting layer size to a multiple of 4 for greater performance\n"
     ]
    },
    {
     "name": "stdout",
     "output_type": "stream",
     "text": [
      "Done processing corpus with 24 documents\n",
      "Processing word-vectors, this takes a moment\n",
      "There are 24 words that could be convereted to word vectors in your corpus \n",
      "There are 0 words that could NOT be converted to word vectors\n",
      "Word-vectors for the corpus are created\n",
      "Intialization complete\n",
      "Starting fit\n",
      "0 iterations complete\n"
     ]
    }
   ],
   "source": [
    "import GaussianLDA\n",
    "import FastGaussianLDA\n",
    "reload(FastGaussianLDA)\n",
    "reload(GaussianLDA)\n",
    "start  = time.time()\n",
    "\n",
    "corpus = ['apple banana mango melon',\n",
    " 'barrel cannon gun war',\n",
    " 'democrat republican senate politics']\n",
    "corpus2 = [\"apple orange mango melon \", \"canvas art mural paint painting \", \"pineapple kiwi grape strawberry \",\n",
    "              \"picture frame picasso sculpture art \", \"coconut guava blueberry blackberry \", \"statue monument art artist \"]\n",
    "corpus2 = [sent * 5 for sent in corpus2]*4\n",
    "wordvec_fileapth = \"/Users/michael/Documents/Gaussian_LDA-master/data/glove.wiki/glove.6B.50d.txt\"\n",
    "g = FastGaussianLDA.Gauss_LDA(2, corpus2, wordvec_fileapth)\n",
    "%lprun -f g.fit g.fit(1)\n",
    "# print (time.time()-start)"
   ]
  },
  {
   "cell_type": "code",
   "execution_count": 4,
   "metadata": {
    "collapsed": false
   },
   "outputs": [
    {
     "data": {
      "text/plain": [
       "[(u'sculpture', 0.8940631151199341),\n",
       " (u'painting', 0.8788479566574097),\n",
       " (u'art', 0.8692042827606201),\n",
       " (u'collection', 0.8355071544647217),\n",
       " (u'mural', 0.8142250776290894),\n",
       " (u'artwork', 0.8077055215835571),\n",
       " (u'paintings', 0.8026525974273682),\n",
       " (u'portrait', 0.7955607175827026),\n",
       " (u'sculptures', 0.7882318496704102),\n",
       " (u'piece', 0.7844581604003906)]"
      ]
     },
     "execution_count": 4,
     "metadata": {},
     "output_type": "execute_result"
    }
   ],
   "source": [
    "mean1 = g.topic_params[0][\"Topic Mean\"]; mean2 = g.topic_params[1][\"Topic Mean\"]; #mean3 = g.topic_params[2][\"Topic Mean\"]\n",
    "wordvecs.most_similar(positive=[mean1])"
   ]
  },
  {
   "cell_type": "code",
   "execution_count": 5,
   "metadata": {
    "collapsed": false
   },
   "outputs": [
    {
     "data": {
      "text/plain": [
       "[(u'fruit', 0.8270679712295532),\n",
       " (u'cherry', 0.8044924139976501),\n",
       " (u'peach', 0.8017692565917969),\n",
       " (u'mango', 0.7933081388473511),\n",
       " (u'pink', 0.7624835968017578),\n",
       " (u'plum', 0.7526549696922302),\n",
       " (u'chocolate', 0.7525837421417236),\n",
       " (u'coconut', 0.7509311437606812),\n",
       " (u'honey', 0.7464876174926758),\n",
       " (u'pear', 0.7391670942306519)]"
      ]
     },
     "execution_count": 5,
     "metadata": {},
     "output_type": "execute_result"
    }
   ],
   "source": [
    "wordvecs.most_similar(positive=[mean2])"
   ]
  },
  {
   "cell_type": "code",
   "execution_count": 6,
   "metadata": {
    "collapsed": true
   },
   "outputs": [],
   "source": [
    "newdoc = \"fruit apple orange mango taco painting sculpture book art artist picasso\""
   ]
  },
  {
   "cell_type": "code",
   "execution_count": 7,
   "metadata": {
    "collapsed": false
   },
   "outputs": [
    {
     "name": "stdout",
     "output_type": "stream",
     "text": [
      " "
     ]
    }
   ],
   "source": [
    "def myfunc(mat):\n",
    "    np.linalg.det(mat)\n",
    "    return np.linalg.inv(mat)\n",
    "    \n",
    "%prun myfunc(np.arange(100).reshape(10,10))"
   ]
  },
  {
   "cell_type": "code",
   "execution_count": null,
   "metadata": {
    "collapsed": false
   },
   "outputs": [],
   "source": []
  },
  {
   "cell_type": "code",
   "execution_count": null,
   "metadata": {
    "collapsed": true
   },
   "outputs": [],
   "source": []
  }
 ],
 "metadata": {
  "kernelspec": {
   "display_name": "Python 2",
   "language": "python",
   "name": "python2"
  },
  "language_info": {
   "codemirror_mode": {
    "name": "ipython",
    "version": 2
   },
   "file_extension": ".py",
   "mimetype": "text/x-python",
   "name": "python",
   "nbconvert_exporter": "python",
   "pygments_lexer": "ipython2",
   "version": "2.7.11"
  }
 },
 "nbformat": 4,
 "nbformat_minor": 0
}
