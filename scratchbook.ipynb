{
 "cells": [
  {
   "cell_type": "code",
   "execution_count": 21,
   "metadata": {
    "collapsed": false
   },
   "outputs": [],
   "source": [
    "from __future__ import division\n",
    "\n",
    "import numpy as np\n",
    "from gensim.models import Word2Vec \n",
    "import scipy.stats as stat\n",
    "from scipy.special import gamma\n",
    "import scipy\n",
    "from numpy import pi\n",
    "from numba import jit, vectorize, float32, float64, \n",
    "import time\n",
    "import line_profiler\n",
    "import cProfile\n",
    "import IPython\n",
    "ip = IPython.get_ipython()\n",
    "ip.define_magic('lprun', line_profiler.magic_lprun)\n",
    "%load_ext line_profiler\n",
    "%load_ext autoreload\n"
   ]
  },
  {
   "cell_type": "code",
   "execution_count": 6,
   "metadata": {
    "collapsed": false
   },
   "outputs": [
    {
     "name": "stderr",
     "output_type": "stream",
     "text": [
      "WARNING:gensim.models.word2vec:consider setting layer size to a multiple of 4 for greater performance\n"
     ]
    }
   ],
   "source": [
    "wordvecs = Word2Vec.load_word2vec_format(\n",
    "    \"/Users/michael/Documents/Gaussian_LDA-master/data/glove.wiki/glove.6B.50d.txt\", binary=False)"
   ]
  },
  {
   "cell_type": "code",
   "execution_count": null,
   "metadata": {
    "collapsed": false
   },
   "outputs": [
    {
     "name": "stdout",
     "output_type": "stream",
     "text": [
      "Done processing corpus with 24 documents\n",
      "There are 24 words that could be convereted to word vectors in your corpus \n",
      "There are 0 words that could NOT be converted to word vectors\n",
      "Intialization complete\n",
      "Starting fit\n",
      "0 iterations complete\n",
      "1 iterations complete\n",
      "2 iterations complete\n",
      "3 iterations complete\n",
      "4 iterations complete\n",
      "5 iterations complete\n",
      "6 iterations complete\n",
      "7 iterations complete\n",
      "8 iterations complete\n",
      "9 iterations complete\n",
      "10 iterations complete\n",
      "11 iterations complete\n",
      "12 iterations complete\n",
      "13 iterations complete\n",
      "14 iterations complete\n",
      "15 iterations complete\n",
      "16 iterations complete\n",
      "17 iterations complete\n",
      "18 iterations complete\n",
      "19 iterations complete\n",
      "20 iterations complete\n",
      "21 iterations complete\n",
      "22 iterations complete\n",
      "23 iterations complete\n",
      "24 iterations complete\n",
      "25 iterations complete\n",
      "26 iterations complete\n",
      "27 iterations complete\n",
      "28 iterations complete\n",
      "29 iterations complete\n",
      "30 iterations complete"
     ]
    }
   ],
   "source": [
    "import FastGaussianLDA\n",
    "%aimport FastGaussianLDA\n",
    "%autoreload 1\n",
    "# import GaussianLDA\n",
    "# reload(Gauss_LDA)\n",
    "# reload(GaussianLDA)\n",
    "start  = time.time()\n",
    "\n",
    "corpus = ['apple banana mango melon',\n",
    " 'barrel cannon gun war',\n",
    " 'democrat republican senate politics']\n",
    "corpus2 = [\"apple orange mango melon \", \"canvas art mural paint painting \", \"pineapple kiwi grape strawberry \",\n",
    "              \"picture frame picasso sculpture art \", \"coconut guava blueberry blackberry \", \"statue monument art artist \"]\n",
    "corpus2 = [sent * 5 for sent in corpus2]*4\n",
    "wordvec_fileapth = \"/Users/michael/Documents/Gaussian_LDA-master/data/glove.wiki/glove.6B.50d.txt\"\n",
    "g = FastGaussianLDA.Gauss_LDA(3, corpus2, word_vector_model=wordvecs)\n",
    "g.fit(100)\n",
    "print (time.time()-start)"
   ]
  },
  {
   "cell_type": "code",
   "execution_count": 187,
   "metadata": {
    "collapsed": false
   },
   "outputs": [
    {
     "data": {
      "text/plain": [
       "<ipykernel.zmqshell.ZMQInteractiveShell at 0x103602f10>"
      ]
     },
     "execution_count": 187,
     "metadata": {},
     "output_type": "execute_result"
    }
   ],
   "source": [
    "IPython.get_ipython()."
   ]
  },
  {
   "cell_type": "code",
   "execution_count": 173,
   "metadata": {
    "collapsed": false
   },
   "outputs": [
    {
     "data": {
      "text/plain": [
       "{'commit_hash': u'b573435',\n",
       " 'commit_source': 'installation',\n",
       " 'default_encoding': 'UTF-8',\n",
       " 'ipython_path': '/Users/michael/anaconda/lib/python2.7/site-packages/IPython',\n",
       " 'ipython_version': '4.1.2',\n",
       " 'os_name': 'posix',\n",
       " 'platform': 'Darwin-14.5.0-x86_64-i386-64bit',\n",
       " 'sys_executable': '/Users/michael/anaconda/bin/python',\n",
       " 'sys_platform': 'darwin',\n",
       " 'sys_version': '2.7.11 |Anaconda 2.3.0 (x86_64)| (default, Dec  6 2015, 18:57:58) \\n[GCC 4.2.1 (Apple Inc. build 5577)]'}"
      ]
     },
     "execution_count": 173,
     "metadata": {},
     "output_type": "execute_result"
    }
   ],
   "source": [
    "IPython.utils.sysinfo.get_sys_info()"
   ]
  },
  {
   "cell_type": "code",
   "execution_count": 175,
   "metadata": {
    "collapsed": false
   },
   "outputs": [
    {
     "data": {
      "text/plain": [
       "'i386'"
      ]
     },
     "execution_count": 175,
     "metadata": {},
     "output_type": "execute_result"
    }
   ],
   "source": [
    "IPython."
   ]
  },
  {
   "cell_type": "markdown",
   "metadata": {},
   "source": [
    "old time was 237 secs on 30 iterations without NUMBA"
   ]
  },
  {
   "cell_type": "code",
   "execution_count": 23,
   "metadata": {
    "collapsed": false
   },
   "outputs": [
    {
     "data": {
      "text/plain": [
       "[(u'sculpture', 0.8271721601486206),\n",
       " (u'painting', 0.8245132565498352),\n",
       " (u'art', 0.803730845451355),\n",
       " (u'collection', 0.7746897339820862),\n",
       " (u'garden', 0.7652238011360168),\n",
       " (u'famous', 0.7629948854446411),\n",
       " (u'works', 0.7435003519058228),\n",
       " (u'paintings', 0.7393991947174072),\n",
       " (u'sculptures', 0.7150182723999023),\n",
       " (u'glass', 0.7109430432319641)]"
      ]
     },
     "execution_count": 23,
     "metadata": {},
     "output_type": "execute_result"
    }
   ],
   "source": [
    "mean1 = g.topic_params[0][\"Topic Mean\"]; mean2 = g.topic_params[1][\"Topic Mean\"]; mean3 = g.topic_params[2][\"Topic Mean\"]\n",
    "wordvecs.most_similar(positive=[mean1])"
   ]
  },
  {
   "cell_type": "code",
   "execution_count": 24,
   "metadata": {
    "collapsed": false
   },
   "outputs": [
    {
     "data": {
      "text/plain": [
       "[(u'colored', 0.8344143629074097),\n",
       " (u'painted', 0.8143922090530396),\n",
       " (u'canvas', 0.8039060831069946),\n",
       " (u'paint', 0.8033887147903442),\n",
       " (u'green', 0.8015591502189636),\n",
       " (u'pink', 0.781296968460083),\n",
       " (u'shaped', 0.7649050951004028),\n",
       " (u'shiny', 0.7583204507827759),\n",
       " (u'piece', 0.7541706562042236),\n",
       " (u'bright', 0.7407790422439575)]"
      ]
     },
     "execution_count": 24,
     "metadata": {},
     "output_type": "execute_result"
    }
   ],
   "source": [
    "wordvecs.most_similar(positive=[mean2])"
   ]
  },
  {
   "cell_type": "code",
   "execution_count": 25,
   "metadata": {
    "collapsed": false
   },
   "outputs": [
    {
     "data": {
      "text/plain": [
       "[(u'mango', 0.8706889152526855),\n",
       " (u'pineapple', 0.8398306369781494),\n",
       " (u'coconut', 0.8316406011581421),\n",
       " (u'peach', 0.8135504722595215),\n",
       " (u'fruit', 0.8121268153190613),\n",
       " (u'apricot', 0.7849801778793335),\n",
       " (u'juice', 0.7718098163604736),\n",
       " (u'plum', 0.7694075107574463),\n",
       " (u'banana', 0.7686874866485596),\n",
       " (u'cherry', 0.7675427198410034)]"
      ]
     },
     "execution_count": 25,
     "metadata": {},
     "output_type": "execute_result"
    }
   ],
   "source": [
    "wordvecs.most_similar(positive=[mean3])"
   ]
  },
  {
   "cell_type": "code",
   "execution_count": null,
   "metadata": {
    "collapsed": true
   },
   "outputs": [],
   "source": [
    "newdoc = \"fruit apple orange mango taco painting sculpture book art artist picasso\""
   ]
  },
  {
   "cell_type": "code",
   "execution_count": null,
   "metadata": {
    "collapsed": false
   },
   "outputs": [],
   "source": [
    "def myfunc(mat):\n",
    "    np.linalg.det(mat)\n",
    "    return np.linalg.inv(mat)\n",
    "    \n",
    "%prun myfunc(np.arange(100).reshape(10,10))"
   ]
  },
  {
   "cell_type": "code",
   "execution_count": null,
   "metadata": {
    "collapsed": false
   },
   "outputs": [],
   "source": []
  },
  {
   "cell_type": "code",
   "execution_count": 6,
   "metadata": {
    "collapsed": false
   },
   "outputs": [],
   "source": [
    "a = None\n",
    "if a: print 'yes'"
   ]
  },
  {
   "cell_type": "markdown",
   "metadata": {},
   "source": [
    "### Expirmenting with Numba accelerations:\n",
    "- Using numpy ufuncs"
   ]
  },
  {
   "cell_type": "code",
   "execution_count": 31,
   "metadata": {
    "collapsed": false
   },
   "outputs": [
    {
     "data": {
      "text/plain": [
       "2500"
      ]
     },
     "execution_count": 31,
     "metadata": {},
     "output_type": "execute_result"
    }
   ],
   "source": [
    "50**2"
   ]
  },
  {
   "cell_type": "code",
   "execution_count": 6,
   "metadata": {
    "collapsed": false
   },
   "outputs": [],
   "source": [
    "import numpy as np"
   ]
  },
  {
   "cell_type": "code",
   "execution_count": 41,
   "metadata": {
    "collapsed": false
   },
   "outputs": [],
   "source": [
    "a = np.cov(np.arange(50.0**2, dtype=np.float32).reshape(50,50))\n",
    "a = np.eye(50.)*4\n",
    "# scipy.linalg.cholesky(a, lower=True, overwrite_a=True)\n",
    "x = np.arange(50)"
   ]
  },
  {
   "cell_type": "code",
   "execution_count": 110,
   "metadata": {
    "collapsed": true
   },
   "outputs": [],
   "source": [
    "from numba import generated_jit, vectorize"
   ]
  },
  {
   "cell_type": "markdown",
   "metadata": {},
   "source": [
    "- Using python operators"
   ]
  },
  {
   "cell_type": "code",
   "execution_count": 24,
   "metadata": {
    "collapsed": false
   },
   "outputs": [
    {
     "ename": "AttributeError",
     "evalue": "'Array' object has no attribute '__defaults__'",
     "output_type": "error",
     "traceback": [
      "\u001b[0;31m---------------------------------------------------------------------------\u001b[0m",
      "\u001b[0;31mAttributeError\u001b[0m                            Traceback (most recent call last)",
      "\u001b[0;32m<ipython-input-24-446ab928239a>\u001b[0m in \u001b[0;36m<module>\u001b[0;34m()\u001b[0m\n\u001b[0;32m----> 1\u001b[0;31m \u001b[0;34m@\u001b[0m\u001b[0mjit\u001b[0m\u001b[0;34m(\u001b[0m\u001b[0;34m(\u001b[0m\u001b[0mfloat32\u001b[0m\u001b[0;34m[\u001b[0m\u001b[0;34m:\u001b[0m\u001b[0;34m,\u001b[0m\u001b[0;34m:\u001b[0m\u001b[0;34m]\u001b[0m\u001b[0;34m)\u001b[0m\u001b[0;34m)\u001b[0m\u001b[0;34m\u001b[0m\u001b[0m\n\u001b[0m\u001b[1;32m      2\u001b[0m \u001b[0;32mdef\u001b[0m \u001b[0mchol_downdate\u001b[0m\u001b[0;34m(\u001b[0m\u001b[0mL\u001b[0m\u001b[0;34m,\u001b[0m \u001b[0mX\u001b[0m\u001b[0;34m)\u001b[0m\u001b[0;34m:\u001b[0m\u001b[0;34m\u001b[0m\u001b[0m\n\u001b[1;32m      3\u001b[0m         \"\"\"\n\u001b[1;32m      4\u001b[0m         \u001b[0mCholesky\u001b[0m \u001b[0mRank\u001b[0m \u001b[0;36m1\u001b[0m \u001b[0mUpdate\u001b[0m\u001b[0;34m\u001b[0m\u001b[0m\n\u001b[1;32m      5\u001b[0m         \u001b[0;34m:\u001b[0m\u001b[0mparam\u001b[0m \u001b[0mL\u001b[0m\u001b[0;34m:\u001b[0m \u001b[0mLower\u001b[0m \u001b[0mtriangle\u001b[0m \u001b[0mmatrix\u001b[0m \u001b[0;32mfrom\u001b[0m \u001b[0mCholesky\u001b[0m \u001b[0mDecomposition\u001b[0m\u001b[0;34m\u001b[0m\u001b[0m\n",
      "\u001b[0;32m/Users/michael/anaconda/lib/python2.7/site-packages/numba/decorators.py\u001b[0m in \u001b[0;36mjit\u001b[0;34m(signature_or_function, locals, target, cache, **options)\u001b[0m\n\u001b[1;32m    146\u001b[0m                    targetoptions=options)\n\u001b[1;32m    147\u001b[0m     \u001b[0;32mif\u001b[0m \u001b[0mpyfunc\u001b[0m \u001b[0;32mis\u001b[0m \u001b[0;32mnot\u001b[0m \u001b[0mNone\u001b[0m\u001b[0;34m:\u001b[0m\u001b[0;34m\u001b[0m\u001b[0m\n\u001b[0;32m--> 148\u001b[0;31m         \u001b[0;32mreturn\u001b[0m \u001b[0mwrapper\u001b[0m\u001b[0;34m(\u001b[0m\u001b[0mpyfunc\u001b[0m\u001b[0;34m)\u001b[0m\u001b[0;34m\u001b[0m\u001b[0m\n\u001b[0m\u001b[1;32m    149\u001b[0m     \u001b[0;32melse\u001b[0m\u001b[0;34m:\u001b[0m\u001b[0;34m\u001b[0m\u001b[0m\n\u001b[1;32m    150\u001b[0m         \u001b[0;32mreturn\u001b[0m \u001b[0mwrapper\u001b[0m\u001b[0;34m\u001b[0m\u001b[0m\n",
      "\u001b[0;32m/Users/michael/anaconda/lib/python2.7/site-packages/numba/decorators.py\u001b[0m in \u001b[0;36mwrapper\u001b[0;34m(func)\u001b[0m\n\u001b[1;32m    162\u001b[0m         disp = dispatcher(py_func=func, locals=locals,\n\u001b[1;32m    163\u001b[0m                           \u001b[0mtargetoptions\u001b[0m\u001b[0;34m=\u001b[0m\u001b[0mtargetoptions\u001b[0m\u001b[0;34m,\u001b[0m\u001b[0;34m\u001b[0m\u001b[0m\n\u001b[0;32m--> 164\u001b[0;31m                           **dispatcher_args)\n\u001b[0m\u001b[1;32m    165\u001b[0m         \u001b[0;32mif\u001b[0m \u001b[0mcache\u001b[0m\u001b[0;34m:\u001b[0m\u001b[0;34m\u001b[0m\u001b[0m\n\u001b[1;32m    166\u001b[0m             \u001b[0mdisp\u001b[0m\u001b[0;34m.\u001b[0m\u001b[0menable_caching\u001b[0m\u001b[0;34m(\u001b[0m\u001b[0;34m)\u001b[0m\u001b[0;34m\u001b[0m\u001b[0m\n",
      "\u001b[0;32m/Users/michael/anaconda/lib/python2.7/site-packages/numba/dispatcher.py\u001b[0m in \u001b[0;36m__init__\u001b[0;34m(self, py_func, locals, targetoptions, impl_kind)\u001b[0m\n\u001b[1;32m    383\u001b[0m         \u001b[0marg_count\u001b[0m \u001b[0;34m=\u001b[0m \u001b[0mlen\u001b[0m\u001b[0;34m(\u001b[0m\u001b[0mpysig\u001b[0m\u001b[0;34m.\u001b[0m\u001b[0mparameters\u001b[0m\u001b[0;34m)\u001b[0m\u001b[0;34m\u001b[0m\u001b[0m\n\u001b[1;32m    384\u001b[0m \u001b[0;34m\u001b[0m\u001b[0m\n\u001b[0;32m--> 385\u001b[0;31m         \u001b[0m_DispatcherBase\u001b[0m\u001b[0;34m.\u001b[0m\u001b[0m__init__\u001b[0m\u001b[0;34m(\u001b[0m\u001b[0mself\u001b[0m\u001b[0;34m,\u001b[0m \u001b[0marg_count\u001b[0m\u001b[0;34m,\u001b[0m \u001b[0mpy_func\u001b[0m\u001b[0;34m,\u001b[0m \u001b[0mpysig\u001b[0m\u001b[0;34m)\u001b[0m\u001b[0;34m\u001b[0m\u001b[0m\n\u001b[0m\u001b[1;32m    386\u001b[0m \u001b[0;34m\u001b[0m\u001b[0m\n\u001b[1;32m    387\u001b[0m         \u001b[0mfunctools\u001b[0m\u001b[0;34m.\u001b[0m\u001b[0mupdate_wrapper\u001b[0m\u001b[0;34m(\u001b[0m\u001b[0mself\u001b[0m\u001b[0;34m,\u001b[0m \u001b[0mpy_func\u001b[0m\u001b[0;34m)\u001b[0m\u001b[0;34m\u001b[0m\u001b[0m\n",
      "\u001b[0;32m/Users/michael/anaconda/lib/python2.7/site-packages/numba/dispatcher.py\u001b[0m in \u001b[0;36m__init__\u001b[0;34m(self, arg_count, py_func, pysig)\u001b[0m\n\u001b[1;32m    148\u001b[0m         \u001b[0margnames\u001b[0m \u001b[0;34m=\u001b[0m \u001b[0mtuple\u001b[0m\u001b[0;34m(\u001b[0m\u001b[0mpysig\u001b[0m\u001b[0;34m.\u001b[0m\u001b[0mparameters\u001b[0m\u001b[0;34m)\u001b[0m\u001b[0;34m\u001b[0m\u001b[0m\n\u001b[1;32m    149\u001b[0m         defargs = tuple(OmittedArg(val)\n\u001b[0;32m--> 150\u001b[0;31m                         for val in (self.py_func.__defaults__ or ()))\n\u001b[0m\u001b[1;32m    151\u001b[0m         \u001b[0;32mtry\u001b[0m\u001b[0;34m:\u001b[0m\u001b[0;34m\u001b[0m\u001b[0m\n\u001b[1;32m    152\u001b[0m             \u001b[0mlastarg\u001b[0m \u001b[0;34m=\u001b[0m \u001b[0mlist\u001b[0m\u001b[0;34m(\u001b[0m\u001b[0mpysig\u001b[0m\u001b[0;34m.\u001b[0m\u001b[0mparameters\u001b[0m\u001b[0;34m.\u001b[0m\u001b[0mvalues\u001b[0m\u001b[0;34m(\u001b[0m\u001b[0;34m)\u001b[0m\u001b[0;34m)\u001b[0m\u001b[0;34m[\u001b[0m\u001b[0;34m-\u001b[0m\u001b[0;36m1\u001b[0m\u001b[0;34m]\u001b[0m\u001b[0;34m\u001b[0m\u001b[0m\n",
      "\u001b[0;31mAttributeError\u001b[0m: 'Array' object has no attribute '__defaults__'"
     ]
    }
   ],
   "source": [
    "@jit((float32[:,:]))\n",
    "def chol_downdate(L, X):\n",
    "        \"\"\"\n",
    "        Cholesky Rank 1 Update\n",
    "        :param L: Lower triangle matrix from Cholesky Decomposition\n",
    "        :param X: Word Vector with same column dimensionality as L\n",
    "        :return: updated lower triangle matrix\n",
    "        \"\"\"\n",
    "        # assert L.shape[1] == X.shape[0]\n",
    "        # choldowndate(L.T, X)\n",
    "        L_c = np.copy(L) # in-place computations are faster\n",
    "        for k in range(X.shape[0]):\n",
    "            r = np.sqrt(L_c[k, k]**2 - X[k]**2)\n",
    "            c = r / L_c[k, k]\n",
    "            s = X[k] / L_c[k, k]\n",
    "            L_c[k, k] = r\n",
    "\n",
    "            for i in range(k+1, X.shape[0]):\n",
    "                L_c[i, k] = (L_c[i, k] - (s * X[i])) / c\n",
    "                X[i] = (c * X[i]) - (s * L_c[i, k])\n",
    "        if np.isnan(r) or np.isinf(r):\n",
    "            print \"YOU GOT Nans or infs: learn to code better shmuck\"\n",
    "            return L # good reason for making copy - return if downdate becomes unstable\n",
    "        return L_c"
   ]
  },
  {
   "cell_type": "code",
   "execution_count": 139,
   "metadata": {
    "collapsed": false
   },
   "outputs": [
    {
     "name": "stdout",
     "output_type": "stream",
     "text": [
      "The slowest run took 5.50 times longer than the fastest. This could mean that an intermediate result is being cached.\n",
      "100000 loops, best of 3: 14.2 µs per loop\n"
     ]
    }
   ],
   "source": [
    "%%timeit\n",
    "chol_downdate(a, x)"
   ]
  },
  {
   "cell_type": "markdown",
   "metadata": {},
   "source": [
    "- Using numpy ufuncs is SLOWER"
   ]
  },
  {
   "cell_type": "code",
   "execution_count": 144,
   "metadata": {
    "collapsed": false
   },
   "outputs": [],
   "source": [
    "@jit\n",
    "def chol_downdate(L, X):\n",
    "        \"\"\"\n",
    "        Cholesky Rank 1 Update\n",
    "        :param L: Lower triangle matrix from Cholesky Decomposition\n",
    "        :param X: Word Vector with same column dimensionality as L\n",
    "        :return: updated lower triangle matrix\n",
    "        \"\"\"\n",
    "        assert L.shape[1] == X.shape[0]\n",
    "        # choldowndate(L.T, X)\n",
    "        L_c = np.copy(L) # in-place computations are faster\n",
    "        for k in range(X.shape[0]):\n",
    "            r = np.sqrt(np.power(L_c[k, k],2) - np.power(X[k], 2))\n",
    "            c = r / L_c[k, k]\n",
    "            s = X[k] / L_c[k, k]\n",
    "            L_c[k, k] = r\n",
    "\n",
    "            for i in range(k+1, X.shape[0]):\n",
    "                L_c[i, k] = (L_c[i, k] - (s * X[i])) / c\n",
    "                X[i] = (c * X[i]) - (s * L_c[i, k])\n",
    "        if np.isnan(r) or np.isinf(r):\n",
    "            print \"YOU GOT Nans or infs: learn to code better shmuck\"\n",
    "            return L # good reason for making copy - return if downdate becomes unstable\n",
    "        return L_c"
   ]
  },
  {
   "cell_type": "code",
   "execution_count": 147,
   "metadata": {
    "collapsed": false
   },
   "outputs": [
    {
     "name": "stdout",
     "output_type": "stream",
     "text": [
      "The slowest run took 4.57 times longer than the fastest. This could mean that an intermediate result is being cached.\n",
      "100000 loops, best of 3: 18.2 µs per loop\n"
     ]
    }
   ],
   "source": [
    "%%timeit\n",
    "chol_downdate(a, x)"
   ]
  },
  {
   "cell_type": "code",
   "execution_count": 149,
   "metadata": {
    "collapsed": true
   },
   "outputs": [],
   "source": []
  },
  {
   "cell_type": "code",
   "execution_count": 42,
   "metadata": {
    "collapsed": false
   },
   "outputs": [],
   "source": [
    "b = np.array([1, 1, 2,2,2,1])"
   ]
  },
  {
   "cell_type": "code",
   "execution_count": 43,
   "metadata": {
    "collapsed": false
   },
   "outputs": [
    {
     "data": {
      "text/plain": [
       "(6, 50)"
      ]
     },
     "execution_count": 43,
     "metadata": {},
     "output_type": "execute_result"
    }
   ],
   "source": [
    "a[b].shape"
   ]
  },
  {
   "cell_type": "code",
   "execution_count": 44,
   "metadata": {
    "collapsed": false
   },
   "outputs": [
    {
     "data": {
      "text/plain": [
       "array([ 4.,  4.])"
      ]
     },
     "execution_count": 44,
     "metadata": {},
     "output_type": "execute_result"
    }
   ],
   "source": [
    "a[[1,1],[1,1]]"
   ]
  },
  {
   "cell_type": "code",
   "execution_count": 30,
   "metadata": {
    "collapsed": true
   },
   "outputs": [],
   "source": [
    "a = set([1, 2, 3, 4]); b = set([3, 4, 5, 6]); aa = a.copy()\n",
    "lsa = [a, aa]"
   ]
  },
  {
   "cell_type": "code",
   "execution_count": 45,
   "metadata": {
    "collapsed": false
   },
   "outputs": [],
   "source": [
    "np.flatiter?"
   ]
  },
  {
   "cell_type": "code",
   "execution_count": 32,
   "metadata": {
    "collapsed": false
   },
   "outputs": [],
   "source": [
    "c = [i&b for i in lsa]"
   ]
  },
  {
   "cell_type": "code",
   "execution_count": 39,
   "metadata": {
    "collapsed": false
   },
   "outputs": [],
   "source": [
    "\n",
    "d = a&b\n",
    "dd = list(d)"
   ]
  },
  {
   "cell_type": "code",
   "execution_count": null,
   "metadata": {
    "collapsed": false
   },
   "outputs": [],
   "source": []
  },
  {
   "cell_type": "code",
   "execution_count": 37,
   "metadata": {
    "collapsed": true
   },
   "outputs": [],
   "source": [
    "d.symmetric_difference?"
   ]
  },
  {
   "cell_type": "code",
   "execution_count": 47,
   "metadata": {
    "collapsed": false
   },
   "outputs": [],
   "source": [
    "d = [b, b,b]"
   ]
  },
  {
   "cell_type": "code",
   "execution_count": 51,
   "metadata": {
    "collapsed": false
   },
   "outputs": [
    {
     "data": {
      "text/plain": [
       "(3, 6)"
      ]
     },
     "execution_count": 51,
     "metadata": {},
     "output_type": "execute_result"
    }
   ],
   "source": [
    "np.array(d).shape"
   ]
  },
  {
   "cell_type": "code",
   "execution_count": 53,
   "metadata": {
    "collapsed": false
   },
   "outputs": [
    {
     "data": {
      "text/plain": [
       "(3, 6)"
      ]
     },
     "execution_count": 53,
     "metadata": {},
     "output_type": "execute_result"
    }
   ],
   "source": [
    "np.vstack(d).shape"
   ]
  },
  {
   "cell_type": "code",
   "execution_count": 54,
   "metadata": {
    "collapsed": true
   },
   "outputs": [],
   "source": [
    "np.array?\n"
   ]
  },
  {
   "cell_type": "code",
   "execution_count": null,
   "metadata": {
    "collapsed": true
   },
   "outputs": [],
   "source": []
  }
 ],
 "metadata": {
  "kernelspec": {
   "display_name": "Python 2",
   "language": "python",
   "name": "python2"
  },
  "language_info": {
   "codemirror_mode": {
    "name": "ipython",
    "version": 2
   },
   "file_extension": ".py",
   "mimetype": "text/x-python",
   "name": "python",
   "nbconvert_exporter": "python",
   "pygments_lexer": "ipython2",
   "version": "2.7.11"
  }
 },
 "nbformat": 4,
 "nbformat_minor": 0
}
